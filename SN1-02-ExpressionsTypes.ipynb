{
 "cells": [
  {
   "cell_type": "markdown",
   "id": "0c6465c3-5590-455c-b32c-014dba556d73",
   "metadata": {
    "slideshow": {
     "slide_type": "slide"
    },
    "tags": []
   },
   "source": [
    "# Topic 2 - Python 3 Expressions, Types and Other Basics\n",
    "\n",
    "\n",
    "### Programming in Science\n",
    "\n",
    "### 420-SN1-RE Course Team\n",
    "\n",
    "Marianopolis College"
   ]
  },
  {
   "cell_type": "markdown",
   "id": "8b9c660a-d31d-4798-8336-17af97494c20",
   "metadata": {
    "slideshow": {
     "slide_type": "slide"
    },
    "tags": []
   },
   "source": [
    "# Names (variables)\n",
    "\n",
    "* We use names for several purposes in a program.\n",
    "* The most common use is to store the value of an expression.\n",
    "* Some important rules about names:\n",
    "    * Consist of only letters, digits, or underscores ('_').\n",
    "    * Cannot begin with a digit.\n",
    "    * Upper and lower case characters are different, e.g. `celcius` distinct from `Celcius`.\n",
    "    * Cannot be a *keyword* or *reserved* word."
   ]
  },
  {
   "cell_type": "code",
   "execution_count": null,
   "id": "8dfd0837",
   "metadata": {
    "slideshow": {
     "slide_type": "subslide"
    },
    "tags": []
   },
   "outputs": [],
   "source": [
    "name = 'Mariah'"
   ]
  },
  {
   "cell_type": "markdown",
   "id": "1b841071-0fd3-4240-a5e0-90c4d516fe61",
   "metadata": {
    "slideshow": {
     "slide_type": "slide"
    },
    "tags": []
   },
   "source": [
    "# Numeric values and types\n",
    "\n",
    "* Integers (`int`):\n",
    "  * Store whole numbers.\n",
    "  * Exact values.\n",
    "  * In Python, can have an *unlimited* number of digits (not true in many other programming languages).\n",
    "* Floating point (`float`):\n",
    "  * Store fractional numbers.\n",
    "  * Inexact (approximate).\n",
    "  * Exponents allow for storage of very large or very small numbers.\n",
    "* There are some additional number types in Python (we will mostly ignore)"
   ]
  },
  {
   "cell_type": "code",
   "execution_count": null,
   "id": "09adab04-4bc2-4bb2-8e85-73087e6df71b",
   "metadata": {
    "scrolled": true,
    "slideshow": {
     "slide_type": "subslide"
    },
    "tags": []
   },
   "outputs": [],
   "source": [
    "x = 5\n",
    "y = 3.7\n",
    "z = 10 / 2\n",
    "\n"
   ]
  },
  {
   "cell_type": "markdown",
   "id": "b83e389d-7954-46eb-b300-2fc0020dbc05",
   "metadata": {
    "slideshow": {
     "slide_type": "slide"
    },
    "tags": []
   },
   "source": [
    "# Numeric literals\n",
    "\n",
    "* The simplest expression is a literal number. \n",
    "* Integers (`int`):\n",
    "  * 1\n",
    "  * 1234\n",
    "  * 1_000_000\n",
    "  * 0b10100011\n",
    "* Floating point (`float`)\n",
    "  * 1.0\n",
    "  * 1.234e3\n",
    "  * 1E6\n",
    "  * 6.674e-11"
   ]
  },
  {
   "cell_type": "code",
   "execution_count": null,
   "id": "b01fcf9b-cad9-4b6b-8cd2-0430e37f3ddd",
   "metadata": {
    "slideshow": {
     "slide_type": "subslide"
    }
   },
   "outputs": [],
   "source": [
    "# Let's try out some of these numbers\n",
    "\n",
    "print(1, 1_000, 0b1010011)\n",
    "\n",
    "# print(1.0, 1E6, 6.674e-11)"
   ]
  },
  {
   "cell_type": "markdown",
   "id": "c2c8c240-688f-410f-8f63-0aaeacd93f16",
   "metadata": {
    "slideshow": {
     "slide_type": "slide"
    }
   },
   "source": [
    "# Arithmetic expressions\n",
    "\n",
    "* Unary operators (one operand):\n",
    "  * Negation: -100\n",
    "  * Plus: +19\n",
    "* Binary operators (two operands):\n",
    "  * Addition: `1 + 2`\n",
    "  * Subtraction: `5 - 7`\n",
    "  * Multiplication: `0.6 * 10`\n",
    "  * Division: `27 / 3`\n",
    "  * Floor division: `15 // 4`\n",
    "  * Remainder: `17 % 5`\n",
    "  * Exponentiation: `2 ** 4`"
   ]
  },
  {
   "cell_type": "code",
   "execution_count": null,
   "id": "2853a5bb-6d52-4584-8214-656d0d53dcdc",
   "metadata": {
    "slideshow": {
     "slide_type": "subslide"
    }
   },
   "outputs": [],
   "source": [
    "# Try out some of these operations"
   ]
  },
  {
   "cell_type": "markdown",
   "id": "c44397c6-b667-4911-a2ad-e96d2d0c2299",
   "metadata": {
    "slideshow": {
     "slide_type": "slide"
    }
   },
   "source": [
    "# More on division\n",
    "\n",
    "Python has three division operators!\n",
    "\n",
    "* `/`: real or `float` division\n",
    "  * `10 / 4` equals `2.5`\n",
    "  * `-10 / 4` equals `-2.5`\n",
    "  * `10 /5 ` equals `2.0`\n",
    "* `//`: floor division\n",
    "  * `10 // 4` equals `2`\n",
    "  * `-10 // 4` equals `-3`\n",
    "  * `10.0 // 4.0` equals `2.0`\n",
    "* `%`: modulo (remainder after division)\n",
    "  * `a % b = a - (a // b) * b\n",
    "  * `10 % 4` equals `2`\n",
    "  * `10 % 3` equals `1`\n",
    "  * `10 % 2` equals `0`"
   ]
  },
  {
   "cell_type": "code",
   "execution_count": null,
   "id": "23b91084-80a8-4cf7-ae4a-84446b6a5eee",
   "metadata": {
    "slideshow": {
     "slide_type": "subslide"
    }
   },
   "outputs": [],
   "source": [
    "# What do you notice about 'mod 2'?"
   ]
  },
  {
   "cell_type": "markdown",
   "id": "1c9ad0ff-abee-438e-a349-5b14ad5da62e",
   "metadata": {
    "slideshow": {
     "slide_type": "slide"
    }
   },
   "source": [
    "# Expressions\n",
    "\n",
    "* An *expression* is a text that can be evaluated to yield a value.\n",
    "* All *values* have a type: `int`, `float`, `str`, `bool`.\n",
    "* A *type* is the set of possible values and operations for those values.\n",
    "* Examples of expressions:\n",
    "  * `17`\n",
    "  * `14.5 + 3`\n",
    "  * `(a + b) / (c + d)`\n",
    "  * `abs(x * y)`\n",
    "  * `text + \"s\"`"
   ]
  },
  {
   "cell_type": "markdown",
   "id": "d3076f7d-c89b-4d7f-b3d5-b4198c29030b",
   "metadata": {
    "slideshow": {
     "slide_type": "slide"
    }
   },
   "source": [
    "# String values/types\n",
    "\n",
    "* The Python `str` type represents data.\n",
    "* A string appears between either single or double quotes.\n",
    "  * `\"A\"` is the same as `'a'`\n",
    "  * `\"Hello, world!\"`\n",
    "  * `'' # Empty string`\n",
    "* You can use other type of quote freely inside thes string:\n",
    "  * `\"It's what's for dinner tonight.\"`\n",
    "  * `'He said \"I am running late.\"'`\n",
    "* These strings are restricted to a single program line."
   ]
  },
  {
   "cell_type": "markdown",
   "id": "1793a087",
   "metadata": {
    "slideshow": {
     "slide_type": "slide"
    }
   },
   "source": [
    "# Triple-quoted strings\n",
    "\n",
    "* Often strings are only one-line long.\n",
    "* If we need to create longer strings, use *triple quotes*:\n",
    "\n",
    "```python\n",
    "\"\"\"Select of of the following:\n",
    "   1) To place an order\n",
    "   2) To track your order\n",
    "   3) To speak to customer service\"\"\"\n",
    "```\n",
    "\n",
    "* This defines a string that contains four lines.\n",
    "* Use single or double quotes freely in the string."
   ]
  },
  {
   "cell_type": "markdown",
   "id": "09be7152",
   "metadata": {
    "slideshow": {
     "slide_type": "slide"
    }
   },
   "source": [
    "# String operators\n",
    "\n",
    "* Operators that work with numbers may also work with `str`, but with different effects:\n",
    "```python\n",
    "\"pa\" + \"per\" # concatenates to \"paper\"\n",
    "'pa' * 2     # repeats to 'papa'\n",
    "```\n",
    "\n",
    "* Certain operators have different meaning depending on the data type."
   ]
  },
  {
   "cell_type": "markdown",
   "id": "c1472056",
   "metadata": {
    "slideshow": {
     "slide_type": "slide"
    }
   },
   "source": [
    "# Booleans\n",
    "\n",
    "* In Python a value of type `bool` is either `True` or `False`.\n",
    "\n",
    "```python\n",
    "a = True    # set variable a to True\n",
    "not a       # False\n",
    "b = True    # set variable b to True\n",
    "a and b     # True\n",
    "a or b      # True\n",
    "(not a) and b # False\n",
    "(not a) or b  # True\n",
    "```\n"
   ]
  },
  {
   "cell_type": "markdown",
   "id": "68f7e453",
   "metadata": {},
   "source": [
    "# Relational operators\n",
    "\n",
    "* Compare values of operands:\n",
    "```python\n",
    "a < b     # Is a less than b?\n",
    "a > b     # Is a bigger than b?\n",
    "a <= b    # Less than or equal.\n",
    "a >= b    # Greater than or equal\n",
    "a == b    # Exactly equal\n",
    "a != b    # Not equal\n",
    "```\n",
    "\n",
    "* Can compare `int` to `float`.\n",
    "* Can compare `str`\n",
    "* Result is type `bool`: `True` or `False`\n"
   ]
  },
  {
   "cell_type": "code",
   "execution_count": null,
   "id": "2708e7b4",
   "metadata": {
    "slideshow": {
     "slide_type": "subslide"
    }
   },
   "outputs": [],
   "source": [
    "\"cat\" > \"dog\""
   ]
  },
  {
   "cell_type": "markdown",
   "id": "564be5ca",
   "metadata": {
    "slideshow": {
     "slide_type": "slide"
    }
   },
   "source": [
    "# Rule for evaluating expresssions\n",
    "\n",
    "* Python follows certain rules for order of operations\n",
    "* Python has rules for *promotion of types*.\n",
    "  * `int + float` gives a `float`.\n",
    "* Use parentheses to for the desired evaluation result."
   ]
  },
  {
   "cell_type": "markdown",
   "id": "3f887b99",
   "metadata": {
    "slideshow": {
     "slide_type": "slide"
    }
   },
   "source": [
    "# Precedence and associativity\n",
    "\n",
    "* Here is the order Python gives precedence\n",
    "\n",
    "| Symbol    | Operation |\n",
    "| -------- | ------- |\n",
    "| `a ** b`  | Exponentiation    |\n",
    "| `-a` | Negation     |\n",
    "| `a / b`, `a * b`, `a // b`, `a % b`    | Multiplication and division    |\n",
    "| `a + b`, `a - b` | Addition and subtraction |\n",
    "| `a > b`, `a <= b`, `a != b`, etc | Relational operators |\n",
    "| `not a` | Boolean NOT |\n",
    "| `a and b` | Boolean AND |\n",
    "| `a or b` | Boolean OR |\n",
    "\n",
    "* Most operators are *left-associative*, except `**`\n",
    "\n"
   ]
  },
  {
   "cell_type": "code",
   "execution_count": null,
   "id": "aeaace60",
   "metadata": {
    "slideshow": {
     "slide_type": "subslide"
    }
   },
   "outputs": [],
   "source": [
    "# Let's try out exponentiation.\n",
    "\n",
    "print(2 ** 3 ** 2)\n",
    "# print((2 ** 3) ** 2)\n",
    "# print(2 ** (3 ** 2))"
   ]
  },
  {
   "cell_type": "markdown",
   "id": "6737580f",
   "metadata": {
    "slideshow": {
     "slide_type": "slide"
    }
   },
   "source": [
    "# Promotion of numeric types\n",
    "\n",
    "* If either operand is a `float`, the result is a float.\n",
    "* Single-slash division (`/`) always gives a float.\n",
    "* Exponentiation with exponent < 0 gives a float.\n",
    "\n",
    "```python\n",
    "5 * 3     # Int\n",
    "5 * 3.0   # Float\n",
    "15 / 3    # Float\n",
    "17.2 // 3 # Float\n",
    "17 // 3   # Int\n",
    "5 ** 3    # Int\n",
    "4 ** 0.5  # Float\n",
    "4 ** -1   # Float\n",
    "```"
   ]
  },
  {
   "cell_type": "markdown",
   "id": "a0b307f7",
   "metadata": {
    "slideshow": {
     "slide_type": "slide"
    }
   },
   "source": [
    "# String comparison\n",
    "\n",
    "* You can compare two `str` with relational operators:\n",
    "```python\n",
    "\"apple\" < \"banana\" # True, 'a' < 'b'\n",
    "\"banana\" < \"bank\"  # True, 'a' < 'k'\n",
    "\"aviary\" > \"Zoo\"   # True, 'Z' < 'a'\n",
    "\"pa\" in \"empathy\"  # True, containment\n",
    "```"
   ]
  },
  {
   "cell_type": "markdown",
   "id": "deade513",
   "metadata": {
    "slideshow": {
     "slide_type": "slide"
    }
   },
   "source": [
    "# Built-in functions\n",
    "\n",
    "Python has several functions built-in and ready to use. \n",
    "\n",
    "* `print()` Print a list of arguments.\n",
    "* `input()` Print a message and return the user's input.\n",
    "* `max()` Get the maximum of two or more values.\n",
    "* `min()` Get the minimum of two or more values.\n",
    "* `abs()` Take the absolute value of the argument.\n",
    "* `round()` Round a `float` to an `int` (or to a specified number of digits).\n",
    "\n",
    "\n",
    "\n",
    "Note: We will make our own functions later in the course. "
   ]
  },
  {
   "cell_type": "markdown",
   "id": "c58cf9d3",
   "metadata": {
    "slideshow": {
     "slide_type": "slide"
    }
   },
   "source": [
    "# Function calls\n",
    "\n",
    "* Another type of expression is a *function call*.\n",
    "* We start a function by writing the name of the function, followed by a list of arugments in parentheses.\n",
    "* Different functions take different arguments.\n",
    "\n",
    "```python\n",
    "x = -7\n",
    "y = abs(x) # Absolute value function takes one argument\n",
    "print(5 / 2, 5 * 2) # Print can take one or more arguments\n",
    "print() # Or no arguments, but this does nothing\n",
    "```"
   ]
  },
  {
   "cell_type": "markdown",
   "id": "e978e0f2",
   "metadata": {
    "slideshow": {
     "slide_type": "slide"
    }
   },
   "source": [
    "# Type conversion\n",
    "\n",
    "* Python type names can be used to convert values.\n",
    "* Looks like a function call.\n",
    "```python\n",
    "str(10) == '10'   # True\n",
    "int(\"10\") == 10   # True\n",
    "float(\"3.0\") == int(\"3\")  # True even though different types\n",
    "int(3.9) == 3 # True, rounds for you\n",
    "```"
   ]
  },
  {
   "cell_type": "code",
   "execution_count": null,
   "id": "3e49e77f",
   "metadata": {
    "slideshow": {
     "slide_type": "subslide"
    }
   },
   "outputs": [],
   "source": [
    "# Try out the above and make up some more examples. \n",
    "\n",
    "float(\"3.0\") == int(\"3\")"
   ]
  },
  {
   "cell_type": "markdown",
   "id": "a86d934b",
   "metadata": {
    "slideshow": {
     "slide_type": "slide"
    }
   },
   "source": [
    "# Assignment and names\n",
    "\n",
    "* Often in Python, we want to remember the result of an expression.\n",
    "* We can use the `=` sign to store the result of an expression to a name (or variable).\n",
    "* An assignment statement in Python requires:\n",
    "  * A name (variable)\n",
    "  * A single equal sign `=`\n",
    "  * An expression\n",
    "* The expression will be evaluated before assignment.\n",
    "* After assignment, the variable is \"bound\" to the value of the expression.\n",
    "```python\n",
    "celcius = 100 # assign 100 to variable celcius\n",
    "fahr = celcius * 9 / 5 + 32 # assign 212.0 to variable fahr\n",
    "```\n"
   ]
  },
  {
   "cell_type": "markdown",
   "id": "543e8015",
   "metadata": {
    "slideshow": {
     "slide_type": "slide"
    }
   },
   "source": [
    "# Reserved words\n",
    "\n",
    "* Certain words are *reserved* in Python and you cannot use them as variables. \n",
    "* Complete list (in Python 3.12):\n",
    "\n",
    "\n",
    "```python\n",
    "and       as        assert    async     await  \n",
    "break     class     continue  def       del  \n",
    "elif      else      except    False     finally  \n",
    "for       from      global    if        import  \n",
    "in        is        lambda    None      nonlocal  \n",
    "not       or        pass      raise     return  \n",
    "True      try       while     with      yield\n",
    "```\n"
   ]
  },
  {
   "cell_type": "markdown",
   "id": "f7d2a77e",
   "metadata": {
    "slideshow": {
     "slide_type": "slide"
    }
   },
   "source": [
    "# Reserved words, continued\n",
    "\n",
    "* Reserved words have rigidly defined meanings.\n",
    "* A reserved word is only reserved if it matches *exactly*. Case matters!\n",
    "* Names and reserved words in Python are *case-sensitive*\n",
    " * `False` is reserved, but `false`, `FALSE`, and `false_` are not.\n",
    " * `pass` is reserved, but `Pass`, `_pass`, and `paSS` are not.\n",
    " "
   ]
  },
  {
   "cell_type": "markdown",
   "id": "2dce6abd",
   "metadata": {
    "slideshow": {
     "slide_type": "slide"
    }
   },
   "source": [
    "# Getting input from the user\n",
    "\n",
    "* Python's built-in `input()` function reads text from the keyboard.\n",
    "  * `input()` prints the argument for the user.\n",
    "  * Python waits for the user to type something.\n",
    "  * You can assign a variable to what the user types, and Python takes the typed input as a `str`.\n",
    "  \n",
    "```python\n",
    "x = input(\"Enter a positive integer: \") \n",
    "n = int(x) # Convert the user input to an int to use for a later calculation\n",
    "```"
   ]
  },
  {
   "cell_type": "markdown",
   "id": "ae32255c",
   "metadata": {
    "slideshow": {
     "slide_type": "slide"
    }
   },
   "source": [
    "# Summary\n",
    "\n",
    "* Basic types: `int`, `float`, `str`, `bool`.\n",
    "* We can use operations on these types.\n",
    "* `float` and `int` are different numeric types.\n",
    "* Three types of division: real division `/`, floor division `//`, remainder `%`.\n",
    "* Be careful since operators do different things with different types.\n",
    "* Use variables (names) to remember values of expressions."
   ]
  }
 ],
 "metadata": {
  "celltoolbar": "Slideshow",
  "kernelspec": {
   "display_name": "Python 3 (ipykernel)",
   "language": "python",
   "name": "python3"
  },
  "language_info": {
   "codemirror_mode": {
    "name": "ipython",
    "version": 3
   },
   "file_extension": ".py",
   "mimetype": "text/x-python",
   "name": "python",
   "nbconvert_exporter": "python",
   "pygments_lexer": "ipython3",
   "version": "3.12.11"
  }
 },
 "nbformat": 4,
 "nbformat_minor": 5
}
